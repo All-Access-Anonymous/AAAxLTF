{
 "cells": [
  {
   "cell_type": "code",
   "execution_count": 1,
   "id": "918f9c32-ce10-4c5e-8c32-f22c1357e1bc",
   "metadata": {},
   "outputs": [],
   "source": [
    "class Subject:\n",
    "\n",
    "\t\"\"\"Represents what is being observed\"\"\"\n",
    "\n",
    "\tdef __init__(self):\n",
    "\n",
    "\t\t\"\"\"create an empty observer list\"\"\"\n",
    "\n",
    "\t\tself._observers = []\n",
    "\n",
    "\tdef notify(self, modifier = None):\n",
    "\n",
    "\t\t\"\"\"Alert the observers\"\"\"\n",
    "\n",
    "\t\tfor observer in self._observers:\n",
    "\t\t\tif modifier != observer:\n",
    "\t\t\t\tobserver.update(self)\n",
    "\n",
    "\tdef attach(self, observer):\n",
    "\n",
    "\t\t\"\"\"If the observer is not in the list,\n",
    "\t\tappend it into the list\"\"\"\n",
    "\n",
    "\t\tif observer not in self._observers:\n",
    "\t\t\tself._observers.append(observer)\n",
    "\n",
    "\tdef detach(self, observer):\n",
    "\n",
    "\t\t\"\"\"Remove the observer from the observer list\"\"\"\n",
    "\n",
    "\t\ttry:\n",
    "\t\t\tself._observers.remove(observer)\n",
    "\t\texcept ValueError:\n",
    "\t\t\tpass\n",
    "\n",
    "\n",
    "\n",
    "class Data(Subject):\n",
    "\n",
    "\t\"\"\"monitor the object\"\"\"\n",
    "\n",
    "\tdef __init__(self, name =''):\n",
    "\t\tSubject.__init__(self)\n",
    "\t\tself.name = name\n",
    "\t\tself._data = 0\n",
    "\n",
    "\t@property\n",
    "\tdef data(self):\n",
    "\t\treturn self._data\n",
    "\n",
    "\t@data.setter\n",
    "\tdef data(self, value):\n",
    "\t\tself._data = value\n",
    "\t\tself.notify()\n",
    "\n",
    "\n",
    "class HexViewer:\n",
    "\n",
    "\t\"\"\"updates the Hewviewer\"\"\"\n",
    "\n",
    "\tdef update(self, subject):\n",
    "\t\tprint('HexViewer: Subject {} has data 0x{:x}'.format(subject.name, subject.data))\n",
    "\n",
    "class OctalViewer:\n",
    "\n",
    "\t\"\"\"updates the Octal viewer\"\"\"\n",
    "\n",
    "\tdef update(self, subject):\n",
    "\t\tprint('OctalViewer: Subject' + str(subject.name) + 'has data '+str(oct(subject.data)))\n",
    "\n",
    "\n",
    "class DecimalViewer:\n",
    "\n",
    "\t\"\"\"updates the Decimal viewer\"\"\"\n",
    "\n",
    "\tdef update(self, subject):\n",
    "\t\tprint('DecimalViewer: Subject % s has data % d' % (subject.name, subject.data))"
   ]
  },
  {
   "cell_type": "code",
   "execution_count": 4,
   "id": "b3ea82ed-093f-453f-8611-de3a8c2d2c8f",
   "metadata": {},
   "outputs": [],
   "source": [
    "obj1 = Data('Data 1')\n",
    "obj2 = Data('Data 2')\n",
    "\n",
    "view1 = DecimalViewer()\n",
    "view2 = HexViewer()\n",
    "view3 = OctalViewer()\n",
    "\n",
    "obj1.attach(view1)\n",
    "obj1.attach(view2)\n",
    "obj1.attach(view3)\n",
    "\n",
    "obj2.attach(view1)\n",
    "obj2.attach(view2)\n",
    "obj2.attach(view3)"
   ]
  },
  {
   "cell_type": "code",
   "execution_count": 5,
   "id": "1de2b96b-41b0-4c4e-989e-d0cf3b03c0f1",
   "metadata": {},
   "outputs": [
    {
     "name": "stdout",
     "output_type": "stream",
     "text": [
      "DecimalViewer: Subject Data 1 has data  11\n",
      "HexViewer: Subject Data 1 has data 0xb\n",
      "OctalViewer: SubjectData 1has data 0o13\n",
      "DecimalViewer: Subject Data 2 has data  15\n",
      "HexViewer: Subject Data 2 has data 0xf\n",
      "OctalViewer: SubjectData 2has data 0o17\n"
     ]
    }
   ],
   "source": [
    "obj1.data = 11\n",
    "obj2.data = 15"
   ]
  },
  {
   "cell_type": "code",
   "execution_count": 6,
   "id": "de300256-0c7d-4f31-b750-2c185349341a",
   "metadata": {},
   "outputs": [
    {
     "name": "stdout",
     "output_type": "stream",
     "text": [
      "DecimalViewer: Subject Data 1 has data  1\n",
      "HexViewer: Subject Data 1 has data 0x1\n",
      "OctalViewer: SubjectData 1has data 0o1\n"
     ]
    }
   ],
   "source": [
    "obj1.data = 1"
   ]
  },
  {
   "cell_type": "code",
   "execution_count": 9,
   "id": "effa36ed-fae3-4595-965e-5ac658fbf1f4",
   "metadata": {},
   "outputs": [
    {
     "data": {
      "text/plain": [
       "[<__main__.DecimalViewer at 0x7f19c5138fd0>,\n",
       " <__main__.HexViewer at 0x7f19c51388e0>,\n",
       " <__main__.OctalViewer at 0x7f19c5138f40>]"
      ]
     },
     "execution_count": 9,
     "metadata": {},
     "output_type": "execute_result"
    }
   ],
   "source": [
    "obj1._observers"
   ]
  },
  {
   "cell_type": "code",
   "execution_count": null,
   "id": "fe781d3d-fe2e-4cd3-bbbb-38b3d4ed2402",
   "metadata": {},
   "outputs": [],
   "source": []
  }
 ],
 "metadata": {
  "kernelspec": {
   "display_name": "Python 3",
   "language": "python",
   "name": "python3"
  },
  "language_info": {
   "codemirror_mode": {
    "name": "ipython",
    "version": 3
   },
   "file_extension": ".py",
   "mimetype": "text/x-python",
   "name": "python",
   "nbconvert_exporter": "python",
   "pygments_lexer": "ipython3",
   "version": "3.8.10"
  }
 },
 "nbformat": 4,
 "nbformat_minor": 5
}
