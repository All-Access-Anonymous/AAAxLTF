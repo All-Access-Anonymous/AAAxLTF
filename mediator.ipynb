{
 "cells": [
  {
   "cell_type": "code",
   "execution_count": 1,
   "id": "99c6bb37-b3ca-45f0-8e48-83d9b819f355",
   "metadata": {},
   "outputs": [],
   "source": [
    "#https://sbcode.net/python/mediator/"
   ]
  },
  {
   "cell_type": "code",
   "execution_count": 2,
   "id": "749f5034-2c80-40cc-bbd5-90e2c2d1aaec",
   "metadata": {},
   "outputs": [],
   "source": [
    "# pylint: disable=too-few-public-methods\n",
    "\"Mediator Concept Sample Code\"\n",
    "\n",
    "class Mediator():\n",
    "    \"The Mediator Concrete Class\"\n",
    "\n",
    "    def __init__(self):\n",
    "        self.colleague1 = Colleague1()\n",
    "        self.colleague2 = Colleague2()\n",
    "\n",
    "    def colleague1_method(self):\n",
    "        \"Calls the method provided by Colleague1\"\n",
    "        return self.colleague1.method_1()\n",
    "\n",
    "    def colleague2_method(self):\n",
    "        \"Calls the method provided by Colleague2\"\n",
    "        return self.colleague2.method_2()\n",
    "\n",
    "class Colleague1():\n",
    "    \"This Colleague provides data for Colleague2\"\n",
    "\n",
    "    @staticmethod\n",
    "    def method_1():\n",
    "        \"A simple method\"\n",
    "        return \"Here is the Colleague1 specific data you asked for\"\n",
    "\n",
    "class Colleague2():\n",
    "    \"This Colleague provides data for Colleague1\"\n",
    "\n",
    "    @staticmethod\n",
    "    def method_2():\n",
    "        \"A simple method\"\n",
    "        return \"Here is the Colleague2 specific data you asked for\""
   ]
  },
  {
   "cell_type": "code",
   "execution_count": 3,
   "id": "86e42358-ce83-4c99-b57e-a86664d18425",
   "metadata": {},
   "outputs": [],
   "source": [
    "# The Client\n",
    "MEDIATOR = Mediator()"
   ]
  },
  {
   "cell_type": "code",
   "execution_count": 4,
   "id": "2ab2a00b-e63b-4037-8a50-02ef6215a170",
   "metadata": {},
   "outputs": [
    {
     "name": "stdout",
     "output_type": "stream",
     "text": [
      "COLLEAGUE1 <--> Here is the Colleague2 specific data you asked for\n"
     ]
    }
   ],
   "source": [
    "# Colleague1 wants some data from Colleague2\n",
    "DATA = MEDIATOR.colleague2_method()\n",
    "print(f\"COLLEAGUE1 <--> {DATA}\")"
   ]
  },
  {
   "cell_type": "code",
   "execution_count": 5,
   "id": "dc4fe8d9-6af3-4e70-a5a7-f1b15be295b6",
   "metadata": {},
   "outputs": [
    {
     "name": "stdout",
     "output_type": "stream",
     "text": [
      "COLLEAGUE2 <--> Here is the Colleague1 specific data you asked for\n"
     ]
    }
   ],
   "source": [
    "# Colleague2 wants some data from Colleague1\n",
    "DATA = MEDIATOR.colleague1_method()\n",
    "print(f\"COLLEAGUE2 <--> {DATA}\")"
   ]
  },
  {
   "cell_type": "code",
   "execution_count": null,
   "id": "51b6fbf4-b85a-43d0-9fe8-e33e4fbb9d88",
   "metadata": {},
   "outputs": [],
   "source": []
  }
 ],
 "metadata": {
  "kernelspec": {
   "display_name": "Python 3",
   "language": "python",
   "name": "python3"
  },
  "language_info": {
   "codemirror_mode": {
    "name": "ipython",
    "version": 3
   },
   "file_extension": ".py",
   "mimetype": "text/x-python",
   "name": "python",
   "nbconvert_exporter": "python",
   "pygments_lexer": "ipython3",
   "version": "3.8.10"
  }
 },
 "nbformat": 4,
 "nbformat_minor": 5
}
