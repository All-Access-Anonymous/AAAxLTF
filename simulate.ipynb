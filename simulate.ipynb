{
 "cells": [
  {
   "cell_type": "code",
   "execution_count": 1,
   "id": "14461ec5-8c68-46c5-9ee1-80f82582dbe5",
   "metadata": {},
   "outputs": [],
   "source": [
    "%load_ext autoreload\n",
    "%autoreload 2`"
   ]
  },
  {
   "cell_type": "code",
   "execution_count": 2,
   "id": "37dc0102-f025-4cdd-b60f-113ad1159f3f",
   "metadata": {},
   "outputs": [],
   "source": [
    "# import hvplot.pandas\n",
    "# import holoviews as hv\n",
    "# import panel as pn\n",
    "import pandas as pd\n",
    "import numpy as np\n",
    "# import param as pm\n",
    "import random\n",
    "import math\n",
    "# pn.extension(sizing_mode=\"stretch_width\")\n",
    "# hv.extension(\"bokeh\")\n",
    "import os, sys\n",
    "sys.path.append('/home/bk/LTF-base/aaa-tokenomics')\n",
    "# pn.extension('plotly')"
   ]
  },
  {
   "cell_type": "code",
   "execution_count": 3,
   "id": "5afcbc2e-8f54-4281-9ac7-31bd49f6d41c",
   "metadata": {},
   "outputs": [],
   "source": [
    "from AAA.sim_handler import SimHandler"
   ]
  },
  {
   "cell_type": "code",
   "execution_count": 4,
   "id": "44eec6cb-eeeb-4e7a-bb45-4550970e5156",
   "metadata": {},
   "outputs": [],
   "source": [
    "s = SimHandler()"
   ]
  },
  {
   "cell_type": "code",
   "execution_count": 5,
   "id": "4b1067d8-ea56-42a5-aa35-40bfac909221",
   "metadata": {},
   "outputs": [
    {
     "name": "stdout",
     "output_type": "stream",
     "text": [
      "instantiate_Users\n",
      "instantiate_Bonds\n",
      "Iteration------------------------ 0\n",
      "[User-1: Bal={'DAI': 1000, 'AHM': 0, 'sAHM': 0, 'ETH': 1},\n",
      " User-2: Bal={'DAI': 1000, 'AHM': 0, 'sAHM': 0, 'ETH': 1},\n",
      " User-3: Bal={'DAI': 1000, 'AHM': 0, 'sAHM': 0, 'ETH': 1},\n",
      " User-4: Bal={'DAI': 1000, 'AHM': 0, 'sAHM': 0, 'ETH': 1}]\n",
      "Iteration------------------------ 1\n",
      "bond_price: 1.0\n",
      "bond_price: 1.0\n",
      "Total AHM supply: 2.0\n",
      "bond_price: 1.0\n",
      "Total AHM supply: 2.0\n",
      "bond_price: 1.0\n",
      "Total AHM supply: 4.0\n",
      "bond_price: 1.0\n",
      "Total AHM supply: 4.0\n",
      "bond_price: 1.0\n",
      "Total AHM supply: 6.0\n",
      "bond_price: 1.0\n",
      "Total AHM supply: 6.0\n",
      "bond_price: 1.0\n",
      "Tresury\n",
      "{'DAI': 400, 'AHM': 0}\n",
      "DAO\n",
      "{'DAI': 0, 'AHM': 8.0}\n",
      "BondInfo\n",
      "{1: {'payout': 100.0, 'vesting': 5, 'lastBlock': 1, 'pricePaid': 100},\n",
      " 2: {'payout': 100.0, 'vesting': 5, 'lastBlock': 1, 'pricePaid': 100},\n",
      " 3: {'payout': 100.0, 'vesting': 5, 'lastBlock': 1, 'pricePaid': 100},\n",
      " 4: {'payout': 100.0, 'vesting': 5, 'lastBlock': 1, 'pricePaid': 100}}\n",
      "Total Debt\n",
      "400.0\n",
      "[Bond-DAI]\n",
      "[User-1: Bal={'DAI': 900, 'AHM': 0, 'sAHM': 0.0, 'ETH': 1},\n",
      " User-2: Bal={'DAI': 900, 'AHM': 0, 'sAHM': 0.0, 'ETH': 1},\n",
      " User-3: Bal={'DAI': 900, 'AHM': 0, 'sAHM': 0.0, 'ETH': 1},\n",
      " User-4: Bal={'DAI': 900, 'AHM': 0, 'sAHM': 0.0, 'ETH': 1}]\n",
      "Iteration------------------------ 2\n",
      "[User-1: Bal={'DAI': 900, 'AHM': 0, 'sAHM': 0.0, 'ETH': 1},\n",
      " User-2: Bal={'DAI': 900, 'AHM': 0, 'sAHM': 0.0, 'ETH': 1},\n",
      " User-3: Bal={'DAI': 900, 'AHM': 0, 'sAHM': 0.0, 'ETH': 1},\n",
      " User-4: Bal={'DAI': 900, 'AHM': 0, 'sAHM': 0.0, 'ETH': 1}]\n",
      "Iteration------------------------ 3\n",
      "[User-1: Bal={'DAI': 900, 'AHM': 0, 'sAHM': 0.0, 'ETH': 1},\n",
      " User-2: Bal={'DAI': 900, 'AHM': 0, 'sAHM': 0.0, 'ETH': 1},\n",
      " User-3: Bal={'DAI': 900, 'AHM': 0, 'sAHM': 0.0, 'ETH': 1},\n",
      " User-4: Bal={'DAI': 900, 'AHM': 0, 'sAHM': 0.0, 'ETH': 1}]\n",
      "Iteration------------------------ 4\n",
      "[User-1: Bal={'DAI': 900, 'AHM': 0, 'sAHM': 0.0, 'ETH': 1},\n",
      " User-2: Bal={'DAI': 900, 'AHM': 0, 'sAHM': 0.0, 'ETH': 1},\n",
      " User-3: Bal={'DAI': 900, 'AHM': 0, 'sAHM': 0.0, 'ETH': 1},\n",
      " User-4: Bal={'DAI': 900, 'AHM': 0, 'sAHM': 0.0, 'ETH': 1}]\n",
      "Iteration------------------------ 5\n",
      "[User-1: Bal={'DAI': 900, 'AHM': 0, 'sAHM': 0.0, 'ETH': 1},\n",
      " User-2: Bal={'DAI': 900, 'AHM': 0, 'sAHM': 0.0, 'ETH': 1},\n",
      " User-3: Bal={'DAI': 900, 'AHM': 0, 'sAHM': 0.0, 'ETH': 1},\n",
      " User-4: Bal={'DAI': 900, 'AHM': 0, 'sAHM': 0.0, 'ETH': 1}]\n",
      "Iteration------------------------ 6\n",
      "Redeemed bonds for 1\n",
      "Redeemed bonds for 2\n",
      "Redeemed bonds for 3\n",
      "Redeemed bonds for 4\n",
      "[User-1: Bal={'DAI': 900, 'AHM': 0.0, 'sAHM': 100.0, 'ETH': 1},\n",
      " User-2: Bal={'DAI': 900, 'AHM': 0.0, 'sAHM': 100.0, 'ETH': 1},\n",
      " User-3: Bal={'DAI': 900, 'AHM': 0.0, 'sAHM': 100.0, 'ETH': 1},\n",
      " User-4: Bal={'DAI': 900, 'AHM': 0.0, 'sAHM': 100.0, 'ETH': 1}]\n",
      "Iteration------------------------ 7\n",
      "[User-1: Bal={'DAI': 900, 'AHM': 0.0, 'sAHM': 101.0, 'ETH': 1},\n",
      " User-2: Bal={'DAI': 900, 'AHM': 0.0, 'sAHM': 101.0, 'ETH': 1},\n",
      " User-3: Bal={'DAI': 900, 'AHM': 0.0, 'sAHM': 101.0, 'ETH': 1},\n",
      " User-4: Bal={'DAI': 900, 'AHM': 0.0, 'sAHM': 101.0, 'ETH': 1}]\n",
      "Iteration------------------------ 8\n",
      "[User-1: Bal={'DAI': 900, 'AHM': 0.0, 'sAHM': 102.01, 'ETH': 1},\n",
      " User-2: Bal={'DAI': 900, 'AHM': 0.0, 'sAHM': 102.01, 'ETH': 1},\n",
      " User-3: Bal={'DAI': 900, 'AHM': 0.0, 'sAHM': 102.01, 'ETH': 1},\n",
      " User-4: Bal={'DAI': 900, 'AHM': 0.0, 'sAHM': 102.01, 'ETH': 1}]\n",
      "Iteration------------------------ 9\n",
      "[User-1: Bal={'DAI': 900, 'AHM': 0.0, 'sAHM': 103.0301, 'ETH': 1},\n",
      " User-2: Bal={'DAI': 900, 'AHM': 0.0, 'sAHM': 103.0301, 'ETH': 1},\n",
      " User-3: Bal={'DAI': 900, 'AHM': 0.0, 'sAHM': 103.0301, 'ETH': 1},\n",
      " User-4: Bal={'DAI': 900, 'AHM': 0.0, 'sAHM': 103.0301, 'ETH': 1}]\n",
      "Tresury\n",
      "{'DAI': 400, 'AHM': 0}\n",
      "DAO\n",
      "{'DAI': 0, 'AHM': 8.0}\n",
      "BondInfo\n",
      "{}\n",
      "Total Debt\n",
      "400.0\n",
      "[Bond-DAI]\n"
     ]
    }
   ],
   "source": [
    "df = s.run()"
   ]
  },
  {
   "cell_type": "code",
   "execution_count": 9,
   "id": "7356ae0d-0a7b-464b-a9be-f331640dd752",
   "metadata": {},
   "outputs": [
    {
     "data": {
      "text/html": [
       "<div>\n",
       "<style scoped>\n",
       "    .dataframe tbody tr th:only-of-type {\n",
       "        vertical-align: middle;\n",
       "    }\n",
       "\n",
       "    .dataframe tbody tr th {\n",
       "        vertical-align: top;\n",
       "    }\n",
       "\n",
       "    .dataframe thead th {\n",
       "        text-align: right;\n",
       "    }\n",
       "</style>\n",
       "<table border=\"1\" class=\"dataframe\">\n",
       "  <thead>\n",
       "    <tr style=\"text-align: right;\">\n",
       "      <th></th>\n",
       "      <th>0</th>\n",
       "      <th>1</th>\n",
       "      <th>2</th>\n",
       "    </tr>\n",
       "  </thead>\n",
       "  <tbody>\n",
       "    <tr>\n",
       "      <th>0</th>\n",
       "      <td>0</td>\n",
       "      <td>{'DAI': 400, 'AHM': 0}</td>\n",
       "      <td>{'DAI': 0, 'AHM': 8.0}</td>\n",
       "    </tr>\n",
       "    <tr>\n",
       "      <th>1</th>\n",
       "      <td>400.0</td>\n",
       "      <td>{'DAI': 400, 'AHM': 0}</td>\n",
       "      <td>{'DAI': 0, 'AHM': 8.0}</td>\n",
       "    </tr>\n",
       "    <tr>\n",
       "      <th>2</th>\n",
       "      <td>400.0</td>\n",
       "      <td>{'DAI': 400, 'AHM': 0}</td>\n",
       "      <td>{'DAI': 0, 'AHM': 8.0}</td>\n",
       "    </tr>\n",
       "    <tr>\n",
       "      <th>3</th>\n",
       "      <td>400.0</td>\n",
       "      <td>{'DAI': 400, 'AHM': 0}</td>\n",
       "      <td>{'DAI': 0, 'AHM': 8.0}</td>\n",
       "    </tr>\n",
       "    <tr>\n",
       "      <th>4</th>\n",
       "      <td>400.0</td>\n",
       "      <td>{'DAI': 400, 'AHM': 0}</td>\n",
       "      <td>{'DAI': 0, 'AHM': 8.0}</td>\n",
       "    </tr>\n",
       "    <tr>\n",
       "      <th>5</th>\n",
       "      <td>400.0</td>\n",
       "      <td>{'DAI': 400, 'AHM': 0}</td>\n",
       "      <td>{'DAI': 0, 'AHM': 8.0}</td>\n",
       "    </tr>\n",
       "    <tr>\n",
       "      <th>6</th>\n",
       "      <td>400.0</td>\n",
       "      <td>{'DAI': 400, 'AHM': 0}</td>\n",
       "      <td>{'DAI': 0, 'AHM': 8.0}</td>\n",
       "    </tr>\n",
       "    <tr>\n",
       "      <th>7</th>\n",
       "      <td>400.0</td>\n",
       "      <td>{'DAI': 400, 'AHM': 0}</td>\n",
       "      <td>{'DAI': 0, 'AHM': 8.0}</td>\n",
       "    </tr>\n",
       "    <tr>\n",
       "      <th>8</th>\n",
       "      <td>400.0</td>\n",
       "      <td>{'DAI': 400, 'AHM': 0}</td>\n",
       "      <td>{'DAI': 0, 'AHM': 8.0}</td>\n",
       "    </tr>\n",
       "    <tr>\n",
       "      <th>9</th>\n",
       "      <td>400.0</td>\n",
       "      <td>{'DAI': 400, 'AHM': 0}</td>\n",
       "      <td>{'DAI': 0, 'AHM': 8.0}</td>\n",
       "    </tr>\n",
       "  </tbody>\n",
       "</table>\n",
       "</div>"
      ],
      "text/plain": [
       "       0                       1                       2\n",
       "0      0  {'DAI': 400, 'AHM': 0}  {'DAI': 0, 'AHM': 8.0}\n",
       "1  400.0  {'DAI': 400, 'AHM': 0}  {'DAI': 0, 'AHM': 8.0}\n",
       "2  400.0  {'DAI': 400, 'AHM': 0}  {'DAI': 0, 'AHM': 8.0}\n",
       "3  400.0  {'DAI': 400, 'AHM': 0}  {'DAI': 0, 'AHM': 8.0}\n",
       "4  400.0  {'DAI': 400, 'AHM': 0}  {'DAI': 0, 'AHM': 8.0}\n",
       "5  400.0  {'DAI': 400, 'AHM': 0}  {'DAI': 0, 'AHM': 8.0}\n",
       "6  400.0  {'DAI': 400, 'AHM': 0}  {'DAI': 0, 'AHM': 8.0}\n",
       "7  400.0  {'DAI': 400, 'AHM': 0}  {'DAI': 0, 'AHM': 8.0}\n",
       "8  400.0  {'DAI': 400, 'AHM': 0}  {'DAI': 0, 'AHM': 8.0}\n",
       "9  400.0  {'DAI': 400, 'AHM': 0}  {'DAI': 0, 'AHM': 8.0}"
      ]
     },
     "execution_count": 9,
     "metadata": {},
     "output_type": "execute_result"
    }
   ],
   "source": [
    "df"
   ]
  },
  {
   "cell_type": "code",
   "execution_count": 6,
   "id": "4e76221c-9bd6-470e-9476-2b8bdc02cc8a",
   "metadata": {},
   "outputs": [
    {
     "data": {
      "text/plain": [
       "{'add': False, 'rate': 0.1, 'target': 1, 'buffer': 5, 'lastBlock': 0}"
      ]
     },
     "execution_count": 6,
     "metadata": {},
     "output_type": "execute_result"
    }
   ],
   "source": [
    "s.bonds[0].adjustment"
   ]
  },
  {
   "cell_type": "code",
   "execution_count": 7,
   "id": "8e4547a9-c0eb-4ea4-96bb-d99637fb7b6e",
   "metadata": {},
   "outputs": [],
   "source": [
    "# from AAA.bond import Bond\n",
    "\n",
    "# b= Bond()\n",
    "\n",
    "# b.deposit(s.users[0],10)\n",
    "\n",
    "# b"
   ]
  },
  {
   "cell_type": "code",
   "execution_count": 8,
   "id": "6b62d939-9d65-41be-b390-2bd676f87629",
   "metadata": {},
   "outputs": [
    {
     "name": "stdout",
     "output_type": "stream",
     "text": [
      "Total AHM supply: 420.1204\n",
      "bond_price: 1.0\n"
     ]
    },
    {
     "data": {
      "text/plain": [
       "1.0"
      ]
     },
     "execution_count": 8,
     "metadata": {},
     "output_type": "execute_result"
    }
   ],
   "source": [
    "s.bonds[0].bond_price()"
   ]
  },
  {
   "cell_type": "code",
   "execution_count": null,
   "id": "1db42cd0-f33d-4c71-8efe-5ead468b4c85",
   "metadata": {},
   "outputs": [],
   "source": []
  }
 ],
 "metadata": {
  "kernelspec": {
   "display_name": "Python 3",
   "language": "python",
   "name": "python3"
  },
  "language_info": {
   "codemirror_mode": {
    "name": "ipython",
    "version": 3
   },
   "file_extension": ".py",
   "mimetype": "text/x-python",
   "name": "python",
   "nbconvert_exporter": "python",
   "pygments_lexer": "ipython3",
   "version": "3.8.10"
  }
 },
 "nbformat": 4,
 "nbformat_minor": 5
}
