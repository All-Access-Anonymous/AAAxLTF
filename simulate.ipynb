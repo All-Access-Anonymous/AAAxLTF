{
 "cells": [
  {
   "cell_type": "code",
   "execution_count": 1,
   "id": "14461ec5-8c68-46c5-9ee1-80f82582dbe5",
   "metadata": {},
   "outputs": [],
   "source": [
    "%load_ext autoreload\n",
    "%autoreload 2"
   ]
  },
  {
   "cell_type": "code",
   "execution_count": 2,
   "id": "37dc0102-f025-4cdd-b60f-113ad1159f3f",
   "metadata": {},
   "outputs": [],
   "source": [
    "# import hvplot.pandas\n",
    "# import holoviews as hv\n",
    "# import panel as pn\n",
    "import pandas as pd\n",
    "import numpy as np\n",
    "# import param as pm\n",
    "import random\n",
    "import math\n",
    "# pn.extension(sizing_mode=\"stretch_width\")\n",
    "# hv.extension(\"bokeh\")\n",
    "import os, sys\n",
    "sys.path.append('/home/bk/LTF-base/aaa-tokenomics')\n",
    "# pn.extension('plotly')"
   ]
  },
  {
   "cell_type": "code",
   "execution_count": 3,
   "id": "5afcbc2e-8f54-4281-9ac7-31bd49f6d41c",
   "metadata": {},
   "outputs": [],
   "source": [
    "from AAA.sim_handler import SimHandler"
   ]
  },
  {
   "cell_type": "code",
   "execution_count": 4,
   "id": "44eec6cb-eeeb-4e7a-bb45-4550970e5156",
   "metadata": {},
   "outputs": [],
   "source": [
    "s = SimHandler()"
   ]
  },
  {
   "cell_type": "code",
   "execution_count": 5,
   "id": "4b1067d8-ea56-42a5-aa35-40bfac909221",
   "metadata": {},
   "outputs": [
    {
     "name": "stdout",
     "output_type": "stream",
     "text": [
      "user 1 successfully staked 50 AHM \n",
      "user 2 successfully staked 100 AHM \n",
      "user 3 successfully staked 100 AHM \n",
      "user 4 successfully staked 200 AHM \n",
      "[User-1: Bal={'DAI': 1000, 'AHM': 150, 'sAHM': 50.5, 'ETH': 1}, User-2: Bal={'DAI': 1000, 'AHM': 100, 'sAHM': 101.0, 'ETH': 1}, User-3: Bal={'DAI': 1000, 'AHM': 100, 'sAHM': 101.0, 'ETH': 1}, User-4: Bal={'DAI': 1000, 'AHM': 0, 'sAHM': 202.0, 'ETH': 1}]\n",
      "[User-1: Bal={'DAI': 1000, 'AHM': 150, 'sAHM': 51.005, 'ETH': 1}, User-2: Bal={'DAI': 1000, 'AHM': 100, 'sAHM': 102.01, 'ETH': 1}, User-3: Bal={'DAI': 1000, 'AHM': 100, 'sAHM': 102.01, 'ETH': 1}, User-4: Bal={'DAI': 1000, 'AHM': 0, 'sAHM': 204.02, 'ETH': 1}]\n",
      "[User-1: Bal={'DAI': 1000, 'AHM': 150, 'sAHM': 51.51505, 'ETH': 1}, User-2: Bal={'DAI': 1000, 'AHM': 100, 'sAHM': 103.0301, 'ETH': 1}, User-3: Bal={'DAI': 1000, 'AHM': 100, 'sAHM': 103.0301, 'ETH': 1}, User-4: Bal={'DAI': 1000, 'AHM': 0, 'sAHM': 206.0602, 'ETH': 1}]\n",
      "[User-1: Bal={'DAI': 1000, 'AHM': 150, 'sAHM': 52.0302005, 'ETH': 1}, User-2: Bal={'DAI': 1000, 'AHM': 100, 'sAHM': 104.060401, 'ETH': 1}, User-3: Bal={'DAI': 1000, 'AHM': 100, 'sAHM': 104.060401, 'ETH': 1}, User-4: Bal={'DAI': 1000, 'AHM': 0, 'sAHM': 208.120802, 'ETH': 1}]\n",
      "[User-1: Bal={'DAI': 1000, 'AHM': 150, 'sAHM': 52.550502505, 'ETH': 1}, User-2: Bal={'DAI': 1000, 'AHM': 100, 'sAHM': 105.10100501, 'ETH': 1}, User-3: Bal={'DAI': 1000, 'AHM': 100, 'sAHM': 105.10100501, 'ETH': 1}, User-4: Bal={'DAI': 1000, 'AHM': 0, 'sAHM': 210.20201002, 'ETH': 1}]\n",
      "[User-1: Bal={'DAI': 1000, 'AHM': 150, 'sAHM': 53.07600753005, 'ETH': 1}, User-2: Bal={'DAI': 1000, 'AHM': 100, 'sAHM': 106.1520150601, 'ETH': 1}, User-3: Bal={'DAI': 1000, 'AHM': 100, 'sAHM': 106.1520150601, 'ETH': 1}, User-4: Bal={'DAI': 1000, 'AHM': 0, 'sAHM': 212.3040301202, 'ETH': 1}]\n",
      "[User-1: Bal={'DAI': 1000, 'AHM': 150, 'sAHM': 53.6067676053505, 'ETH': 1}, User-2: Bal={'DAI': 1000, 'AHM': 100, 'sAHM': 107.213535210701, 'ETH': 1}, User-3: Bal={'DAI': 1000, 'AHM': 100, 'sAHM': 107.213535210701, 'ETH': 1}, User-4: Bal={'DAI': 1000, 'AHM': 0, 'sAHM': 214.427070421402, 'ETH': 1}]\n",
      "[User-1: Bal={'DAI': 1000, 'AHM': 150, 'sAHM': 54.142835281404004, 'ETH': 1}, User-2: Bal={'DAI': 1000, 'AHM': 100, 'sAHM': 108.28567056280801, 'ETH': 1}, User-3: Bal={'DAI': 1000, 'AHM': 100, 'sAHM': 108.28567056280801, 'ETH': 1}, User-4: Bal={'DAI': 1000, 'AHM': 0, 'sAHM': 216.57134112561602, 'ETH': 1}]\n",
      "[User-1: Bal={'DAI': 1000, 'AHM': 150, 'sAHM': 54.68426363421804, 'ETH': 1}, User-2: Bal={'DAI': 1000, 'AHM': 100, 'sAHM': 109.36852726843608, 'ETH': 1}, User-3: Bal={'DAI': 1000, 'AHM': 100, 'sAHM': 109.36852726843608, 'ETH': 1}, User-4: Bal={'DAI': 1000, 'AHM': 0, 'sAHM': 218.73705453687217, 'ETH': 1}]\n",
      "[User-1: Bal={'DAI': 1000, 'AHM': 150, 'sAHM': 55.23110627056022, 'ETH': 1}, User-2: Bal={'DAI': 1000, 'AHM': 100, 'sAHM': 110.46221254112044, 'ETH': 1}, User-3: Bal={'DAI': 1000, 'AHM': 100, 'sAHM': 110.46221254112044, 'ETH': 1}, User-4: Bal={'DAI': 1000, 'AHM': 0, 'sAHM': 220.92442508224087, 'ETH': 1}]\n"
     ]
    }
   ],
   "source": [
    "s.run()"
   ]
  },
  {
   "cell_type": "code",
   "execution_count": 6,
   "id": "7356ae0d-0a7b-464b-a9be-f331640dd752",
   "metadata": {},
   "outputs": [
    {
     "data": {
      "text/plain": [
       "[User-1: Bal={'DAI': 1000, 'AHM': 150, 'sAHM': 55.23110627056022, 'ETH': 1},\n",
       " User-2: Bal={'DAI': 1000, 'AHM': 100, 'sAHM': 110.46221254112044, 'ETH': 1},\n",
       " User-3: Bal={'DAI': 1000, 'AHM': 100, 'sAHM': 110.46221254112044, 'ETH': 1},\n",
       " User-4: Bal={'DAI': 1000, 'AHM': 0, 'sAHM': 220.92442508224087, 'ETH': 1}]"
      ]
     },
     "execution_count": 6,
     "metadata": {},
     "output_type": "execute_result"
    }
   ],
   "source": [
    "s.users"
   ]
  },
  {
   "cell_type": "code",
   "execution_count": null,
   "id": "9f5606ff-d9bc-4a57-8cd7-d3e1c306c319",
   "metadata": {},
   "outputs": [],
   "source": []
  }
 ],
 "metadata": {
  "kernelspec": {
   "display_name": "Python 3",
   "language": "python",
   "name": "python3"
  },
  "language_info": {
   "codemirror_mode": {
    "name": "ipython",
    "version": 3
   },
   "file_extension": ".py",
   "mimetype": "text/x-python",
   "name": "python",
   "nbconvert_exporter": "python",
   "pygments_lexer": "ipython3",
   "version": "3.8.10"
  }
 },
 "nbformat": 4,
 "nbformat_minor": 5
}
