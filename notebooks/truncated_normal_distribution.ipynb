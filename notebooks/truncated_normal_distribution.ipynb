{
 "cells": [
  {
   "cell_type": "code",
   "execution_count": 221,
   "id": "21564759",
   "metadata": {},
   "outputs": [],
   "source": [
    "import matplotlib"
   ]
  },
  {
   "cell_type": "markdown",
   "id": "4c2faccb",
   "metadata": {},
   "source": [
    "#### Sauce: https://stackoverflow.com/questions/18441779/how-to-specify-upper-and-lower-limits-when-using-numpy-random-normal"
   ]
  },
  {
   "cell_type": "code",
   "execution_count": 222,
   "id": "fe323638",
   "metadata": {},
   "outputs": [],
   "source": [
    "import matplotlib.pyplot as plt\n",
    "import scipy.stats as stats\n",
    "\n",
    "lower, upper = 0, 100 # The bounds\n",
    "mu, sigma = 20, 2 # The mean, and standard deviation\n",
    "X = stats.truncnorm(\n",
    "    (lower - mu) / sigma, (upper - mu) / sigma, loc=mu, scale=sigma)\n",
    "N = stats.norm(loc=mu, scale=sigma)\n",
    "\n"
   ]
  },
  {
   "cell_type": "code",
   "execution_count": 223,
   "id": "7e893408",
   "metadata": {},
   "outputs": [],
   "source": [
    "population: int = 100"
   ]
  },
  {
   "cell_type": "code",
   "execution_count": 224,
   "id": "7ade3b5e",
   "metadata": {},
   "outputs": [
    {
     "data": {
      "image/png": "[encoded data removed]",
      "text/plain": [
       "<Figure size 432x288 with 2 Axes>"
      ]
     },
     "metadata": {
      "needs_background": "light"
     },
     "output_type": "display_data"
    }
   ],
   "source": [
    "fig, ax = plt.subplots(2, sharex=True)\n",
    "ax[0].hist(X.rvs(population), density=True)\n",
    "ax[1].hist(N.rvs(population), density=True)\n",
    "plt.show()\n"
   ]
  },
  {
   "cell_type": "code",
   "execution_count": 225,
   "id": "9bb74274",
   "metadata": {},
   "outputs": [],
   "source": [
    "arr = X.rvs(population)"
   ]
  },
  {
   "cell_type": "code",
   "execution_count": 226,
   "id": "934341b1",
   "metadata": {},
   "outputs": [
    {
     "data": {
      "text/plain": [
       "array([20.6, 17.1, 21.5, 18. , 20. , 21.7, 21.8, 21.3, 19.9, 16.7, 21. ,\n",
       "       19.4, 18.9, 18.8, 19.6, 18. , 19.1, 22.7, 20.9, 22.2, 20.6, 17.3,\n",
       "       21. , 17.7, 18.1, 19.3, 20.9, 17.8, 19.5, 18.4, 20.1, 22.3, 20.1,\n",
       "       18. , 17. , 20.6, 18.2, 21. , 19.1, 18.9, 20.2, 15.1, 20.2, 18.1,\n",
       "       21.5, 18.6, 17.6, 17.7, 19.3, 22.2, 19.1, 18.3, 18.8, 20.4, 20.6,\n",
       "       21.3, 22.9, 18.2, 19.2, 18.9, 20.8, 15.8, 21.5, 20.2, 22.1, 21.4,\n",
       "       18.5, 22.5, 21.4, 18.9, 18.8, 21.7, 20.5, 21.4, 21. , 20.7, 21.4,\n",
       "       15.3, 18.4, 21.2, 20.4, 21.6, 22.3, 18.9, 19.2, 18. , 24.4, 22.8,\n",
       "       18.3, 19. , 20.4, 17.3, 21.3, 16.9, 20.8, 20.4, 21.8, 19.2, 20.8,\n",
       "       18.1])"
      ]
     },
     "execution_count": 226,
     "metadata": {},
     "output_type": "execute_result"
    }
   ],
   "source": [
    "arr.round(1)"
   ]
  },
  {
   "cell_type": "code",
   "execution_count": 227,
   "id": "c8b0b19a",
   "metadata": {},
   "outputs": [
    {
     "data": {
      "text/plain": [
       "numpy.ndarray"
      ]
     },
     "execution_count": 227,
     "metadata": {},
     "output_type": "execute_result"
    }
   ],
   "source": [
    "type(arr)"
   ]
  },
  {
   "cell_type": "code",
   "execution_count": 228,
   "id": "6009d29c",
   "metadata": {},
   "outputs": [],
   "source": [
    "import numpy as np\n",
    "\n",
    "def truncated_normal(mean, stddev, minval, maxval):\n",
    "        return np.clip(np.random.normal(mean, stddev), minval, maxval)"
   ]
  },
  {
   "cell_type": "code",
   "execution_count": 148,
   "id": "917d78bb",
   "metadata": {},
   "outputs": [
    {
     "data": {
      "text/plain": [
       "24.52547647658806"
      ]
     },
     "execution_count": 148,
     "metadata": {},
     "output_type": "execute_result"
    }
   ],
   "source": [
    "truncated_normal(20, 10, 0, 100)"
   ]
  },
  {
   "cell_type": "code",
   "execution_count": null,
   "id": "0dad00bb",
   "metadata": {},
   "outputs": [],
   "source": []
  }
 ],
 "metadata": {
  "kernelspec": {
   "display_name": "Python 3 (ipykernel)",
   "language": "python",
   "name": "python3"
  },
  "language_info": {
   "codemirror_mode": {
    "name": "ipython",
    "version": 3
   },
   "file_extension": ".py",
   "mimetype": "text/x-python",
   "name": "python",
   "nbconvert_exporter": "python",
   "pygments_lexer": "ipython3",
   "version": "3.10.1"
  }
 },
 "nbformat": 4,
 "nbformat_minor": 5
}
