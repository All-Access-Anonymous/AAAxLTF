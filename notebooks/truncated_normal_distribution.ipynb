{
 "cells": [
  {
   "cell_type": "code",
   "execution_count": 1,
   "id": "21564759",
   "metadata": {},
   "outputs": [],
   "source": [
    "import matplotlib"
   ]
  },
  {
   "cell_type": "markdown",
   "id": "4c2faccb",
   "metadata": {},
   "source": [
    "#### Sauce: https://stackoverflow.com/questions/18441779/how-to-specify-upper-and-lower-limits-when-using-numpy-random-normal"
   ]
  },
  {
   "cell_type": "code",
   "execution_count": 5,
   "id": "fe323638",
   "metadata": {},
   "outputs": [],
   "source": [
    "import matplotlib.pyplot as plt\n",
    "import scipy.stats as stats\n",
    "\n",
    "lower, upper = 0, 100 # The bounds\n",
    "mu, sigma = 20, 2 # The mean, and standard deviation\n",
    "X = stats.truncnorm(\n",
    "    (lower - mu) / sigma, (upper - mu) / sigma, loc=mu, scale=sigma)\n",
    "N = stats.norm(loc=mu, scale=sigma)\n",
    "\n",
    "population: int = 100"
   ]
  },
  {
   "cell_type": "code",
   "execution_count": null,
   "id": "7e893408",
   "metadata": {},
   "outputs": [],
   "source": []
  },
  {
   "cell_type": "code",
   "execution_count": 6,
   "id": "7ade3b5e",
   "metadata": {},
   "outputs": [
    {
     "data": {
      "image/png": "[encoded data removed]",
      "text/plain": [
       "<Figure size 432x288 with 2 Axes>"
      ]
     },
     "metadata": {
      "needs_background": "light"
     },
     "output_type": "display_data"
    }
   ],
   "source": [
    "fig, ax = plt.subplots(2, sharex=True)\n",
    "ax[0].hist(X.rvs(population), density=True)\n",
    "ax[1].hist(N.rvs(population), density=True)\n",
    "plt.show()\n"
   ]
  },
  {
   "cell_type": "code",
   "execution_count": 7,
   "id": "9bb74274",
   "metadata": {},
   "outputs": [],
   "source": [
    "arr = X.rvs(population)"
   ]
  },
  {
   "cell_type": "code",
   "execution_count": 8,
   "id": "934341b1",
   "metadata": {},
   "outputs": [
    {
     "data": {
      "text/plain": [
       "array([18.6, 17.2, 21.4, 21.3, 18.8, 23.2, 17.6, 21.5, 16.8, 21.2, 19.5,\n",
       "       17.4, 18.7, 20.9, 20.8, 20.5, 22. , 20.3, 18.8, 22.4, 16.2, 17.5,\n",
       "       16.8, 20.3, 18.8, 16.8, 21.9, 20.7, 21.9, 20. , 16.9, 17.3, 19.2,\n",
       "       24.5, 21.6, 17.4, 20.8, 17.1, 19. , 22.5, 20.4, 19.9, 21.9, 23.2,\n",
       "       18.2, 20.6, 19.2, 20.4, 23.1, 21.6, 18.6, 17. , 22.2, 19.4, 21. ,\n",
       "       16.6, 21. , 19. , 14.8, 19.2, 18.5, 20.1, 21.8, 22.6, 17.6, 19.8,\n",
       "       20.7, 21.8, 20.7, 19.2, 20. , 20.2, 20.8, 20.7, 18.6, 22.1, 21.6,\n",
       "       22. , 19.6, 20.5, 20.4, 19.2, 21.2, 19.6, 24.2, 22.9, 21.6, 21.1,\n",
       "       20.2, 23.6, 20.7, 17.2, 19.4, 20. , 21.4, 21.9, 20.7, 20.9, 17.7,\n",
       "       20.7])"
      ]
     },
     "execution_count": 8,
     "metadata": {},
     "output_type": "execute_result"
    }
   ],
   "source": [
    "arr.round(1)"
   ]
  },
  {
   "cell_type": "code",
   "execution_count": 9,
   "id": "c8b0b19a",
   "metadata": {},
   "outputs": [
    {
     "data": {
      "text/plain": [
       "numpy.ndarray"
      ]
     },
     "execution_count": 9,
     "metadata": {},
     "output_type": "execute_result"
    }
   ],
   "source": [
    "type(arr)"
   ]
  },
  {
   "cell_type": "code",
   "execution_count": 10,
   "id": "6009d29c",
   "metadata": {},
   "outputs": [],
   "source": [
    "import numpy as np\n",
    "\n",
    "def truncated_normal(mean, stddev, minval, maxval):\n",
    "        return np.clip(np.random.normal(mean, stddev), minval, maxval)"
   ]
  },
  {
   "cell_type": "code",
   "execution_count": 13,
   "id": "917d78bb",
   "metadata": {},
   "outputs": [
    {
     "data": {
      "text/plain": [
       "17.531078880730615"
      ]
     },
     "execution_count": 13,
     "metadata": {},
     "output_type": "execute_result"
    }
   ],
   "source": [
    "truncated_normal(20, 10, 0, 100)"
   ]
  },
  {
   "cell_type": "code",
   "execution_count": 20,
   "id": "0dad00bb",
   "metadata": {},
   "outputs": [
    {
     "data": {
      "text/plain": [
       "[14,\n",
       " 11,\n",
       " 21,\n",
       " 22,\n",
       " 30,\n",
       " 23,\n",
       " 36,\n",
       " 38,\n",
       " 14,\n",
       " 7,\n",
       " 30,\n",
       " 21,\n",
       " 23,\n",
       " 24,\n",
       " 13,\n",
       " 0,\n",
       " 6,\n",
       " 8,\n",
       " 0,\n",
       " 15,\n",
       " 12,\n",
       " 18,\n",
       " 18,\n",
       " 14,\n",
       " 7,\n",
       " 8,\n",
       " 0,\n",
       " 23,\n",
       " 29,\n",
       " 5,\n",
       " 34,\n",
       " 0,\n",
       " 38,\n",
       " 26,\n",
       " 14,\n",
       " 9,\n",
       " 0,\n",
       " 18,\n",
       " 0,\n",
       " 30,\n",
       " 44,\n",
       " 33,\n",
       " 16,\n",
       " 13,\n",
       " 23,\n",
       " 16,\n",
       " 4,\n",
       " 0,\n",
       " 21,\n",
       " 19,\n",
       " 55,\n",
       " 12,\n",
       " 19,\n",
       " 13,\n",
       " 10,\n",
       " 27,\n",
       " 20,\n",
       " 13,\n",
       " 37,\n",
       " 16,\n",
       " 21,\n",
       " 16,\n",
       " 16,\n",
       " 10,\n",
       " 35,\n",
       " 0,\n",
       " 32,\n",
       " 16,\n",
       " 0,\n",
       " 33,\n",
       " 9,\n",
       " 7,\n",
       " 49,\n",
       " 3,\n",
       " 19,\n",
       " 24,\n",
       " 27,\n",
       " 31,\n",
       " 0,\n",
       " 33,\n",
       " 28,\n",
       " 5,\n",
       " 6,\n",
       " 17,\n",
       " 0,\n",
       " 34,\n",
       " 29,\n",
       " 6,\n",
       " 45,\n",
       " 47,\n",
       " 26,\n",
       " 35,\n",
       " 7,\n",
       " 37,\n",
       " 9,\n",
       " 31,\n",
       " 6,\n",
       " 21,\n",
       " 17,\n",
       " 6]"
      ]
     },
     "execution_count": 20,
     "metadata": {},
     "output_type": "execute_result"
    }
   ],
   "source": [
    "[round(truncated_normal(20, 13, 0, 1000)) for _ in range(100)]"
   ]
  },
  {
   "cell_type": "code",
   "execution_count": null,
   "id": "c95ff241",
   "metadata": {},
   "outputs": [],
   "source": []
  },
  {
   "cell_type": "code",
   "execution_count": null,
   "id": "80c56c73",
   "metadata": {},
   "outputs": [],
   "source": []
  }
 ],
 "metadata": {
  "kernelspec": {
   "display_name": "Python 3 (ipykernel)",
   "language": "python",
   "name": "python3"
  },
  "language_info": {
   "codemirror_mode": {
    "name": "ipython",
    "version": 3
   },
   "file_extension": ".py",
   "mimetype": "text/x-python",
   "name": "python",
   "nbconvert_exporter": "python",
   "pygments_lexer": "ipython3",
   "version": "3.10.1"
  }
 },
 "nbformat": 4,
 "nbformat_minor": 5
}
