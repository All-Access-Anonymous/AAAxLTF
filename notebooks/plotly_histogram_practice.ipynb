{
 "cells": [
  {
   "cell_type": "code",
   "execution_count": 1,
   "id": "6d899e60",
   "metadata": {},
   "outputs": [],
   "source": [
    "import plotly.io\n",
    "import plotly.express as px\n",
    "\n",
    "import pandas as pd\n",
    "import sys\n",
    "sys.path.append('../')"
   ]
  },
  {
   "cell_type": "code",
   "execution_count": 2,
   "id": "9f5edb2f",
   "metadata": {},
   "outputs": [],
   "source": [
    "from aaa.schema import SimConfig\n",
    "\n",
    "# Deriving a config from schema.py\n",
    "\n",
    "config = SimConfig().dict()"
   ]
  },
  {
   "cell_type": "code",
   "execution_count": 3,
   "id": "75b43a37",
   "metadata": {},
   "outputs": [
    {
     "data": {
      "text/plain": [
       "{'days': 35,\n",
       " 'buy_day_weights': [0.2, 0.3, 0.2, 0.2, 0.1],\n",
       " 'attendee_count': 1000,\n",
       " 'attendee_config': {'lateness': (0.5, 0.9)},\n",
       " 'market_config': {'price_increase_multiplier': 1.05, 'log_day': True},\n",
       " 'seating_levels': 5}"
      ]
     },
     "execution_count": 3,
     "metadata": {},
     "output_type": "execute_result"
    }
   ],
   "source": [
    "config"
   ]
  },
  {
   "cell_type": "code",
   "execution_count": 4,
   "id": "960270a7",
   "metadata": {
    "scrolled": true
   },
   "outputs": [
    {
     "data": {
      "text/plain": [
       "'{\"data\":[{\"alignmentgroup\":\"True\",\"bingroup\":\"x\",\"hovertemplate\":\"Day=%{x}<br>count=%{y}<extra></extra>\",\"legendgroup\":\"\",\"marker\":{\"color\":\"#636efa\",\"pattern\":{\"shape\":\"\"}},\"name\":\"\",\"nbinsx\":1000,\"offsetgroup\":\"\",\"orientation\":\"v\",\"showlegend\":false,\"x\":[7,21,2,5,7,15,3,7,2,0,8,7,12,33,1,5,13,11,28,24,31,11,8,10,9,27,12,6,11,11,25,33,28,8,22,4,16,26,0,4,26,19,30,28,9,10,1,17,26,23,18,21,3,16,17,7,6,29,24,10,31,16,4,9,19,7,19,18,1,18,16,5,10,26,6,19,17,23,8,22,9,9,24,12,5,1,14,19,20,4,7,23,20,3,31,4,23,13,13,17,25,7,19,21,31,6,24,14,5,14,10,11,33,10,15,6,13,13,21,6,7,24,18,6,12,21,15,9,8,5,19,15,24,7,7,19,26,7,6,3,25,13,29,10,4,2,24,12,15,11,27,22,12,26,15,5,11,3,18,14,20,11,6,2,10,7,0,14,5,22,20,26,16,6,6,1,2,15,15,21,11,3,28,0,27,16,24,15,19,25,6,9,24,22,6,8,8,8,6,16,12,5,18,0,20,14,18,23,4,4,8,28,10,7,28,13,16,15,17,5,2,22,8,20,6,27,5,2,1,6,11,24,19,0,0,2,10,15,5,7,13,19,19,3,9,5,27,21,21,5,27,14,26,21,31,9,14,15,9,20,32,17,4,10,9,10,6,5,17,6,31,17,6,5,10,1,6,9,4,20,8,1,26,4,17,22,24,19,15,9,21,19,20,24,12,2,7,6,1,15,6,20,7,0,15,4,22,29,20,10,0,20,20,20,19,0,19,26,29,27,19,5,5,6,19,0,9,6,23,1,0,18,0,18,17,23,18,25,3,5,18,31,9,17,3,7,2,21,4,19,17,2,21,11,0,9,10,2,4,10,3,27,10,30,29,9,7,29,26,6,25,19,22,25,10,24,7,8,6,11,5,2,3,7,9,5,26,0,5,11,7,16,4,5,8,10,7,9,5,21,4,21,25,29,33,5,18,5,11,21,18,8,8,8,8,13,20,7,17,4,21,20,13,6,4,22,6,12,17,9,4,15,19,11,2,16,2,18,26,22,24,19,28,9,3,25,10,5,31,24,20,10,20,3,12,16,22,24,21,18,23,3,9,8,8,13,4,14,19,7,15,22,13,8,33,15,6,24,7,22,18,2,29,5,31,3,9,4,14,5,20,25,2,10,29,22,17,1,15,14,26,9,3,22,29,3,11,10,3,7,11,7,1,15,20,10,14,19,24,5,10,10,19,2,11,22,16,21,17,0,5,3,13,2,22,18,18,3,9,9,11,12,24,0,17,12,3,1,2,4,27,9,5,24,0,2,9,0,9,13,4,12,10,13,12,12,27,12,0,5,0,27,20,10,29,4,19,5,17,3,18,27,0,19,2,0,6,4,15,28,6,15,3,3,9,16,19,17,5,13,11,1,7,23,25,10,6,13,0,7,17,20,1,22,4,9,9,28,4,20,17,25,12,9,25,15,19,27,17,7,21,24,11,23,5,4,17,25,11,26,5,14,20,24,5,3,1,12,3,13,16,17,30,6,2,11,6,24,6,3,20,31,13,8,8,25,13,20,12,8,26,24,6,27,5,5,24,19,17,1,8,14,7,23,27,6,20,14,27,26,21,16,6,4,13,25,18,9,9,9,6,1,6,6,19,0,11,10,4,4,21,30,9,3,12,19,25,28,24,6,28,11,20,8,19,1,2,8,10,9,30,10,14,8,4,15,1,26,22,8,3,0,10,18,16,1,19,10,3,10,20,5,18,6,18,21,5,9,23,34,12,25,17,30,25,6,21,9,0,8,10,1,0,16,22,8,2,12,4,17,24,11,20,23,6,9,4,10,20,12,8,16,5,22,10,29,5,1,23,9,5,13,9,26,1,24,6,0,3,6,18,6,22,25,2,4,24,15,27,7,8,26,10,13,3,11,31,26,4,6,9,7,15,22,34,23,0,16,19,21,22,5,10,5,17,21,20,22,7,12,19,31,8,7,9,34,2,20,10,3,5,0,6,2,29,19,9,9,13,9,4,2,15,4,10,24,12,14,5,4,0,0,19,28,10,14,26,14,13,7,8,11,24,15,19,1,4,6,10,19,4,21,8,21,15,7,19,6,28,6,18,31,27,8,26,17,3,4,3,9,5,10,17,1,18,0,13,9,14,8,5,10,13,1,13,23,22,13,8,10,20,4,5,7,21,12,24,1,12,12,27,21,11,5,6,6,10,21,5,6,2,8,16,31,0,23,1,24,6,18,3,20,30,3,5,23,9,15,29,28,20,28,6,14,10,7,10,12,20,9,0,5,14,12,19,20,25,2,5,2],\"xaxis\":\"x\",\"yaxis\":\"y\",\"type\":\"histogram\"}],\"layout\":{\"template\":{\"data\":{\"bar\":[{\"error_x\":{\"color\":\"#2a3f5f\"},\"error_y\":{\"color\":\"#2a3f5f\"},\"marker\":{\"line\":{\"color\":\"#E5ECF6\",\"width\":0.5},\"pattern\":{\"fillmode\":\"overlay\",\"size\":10,\"solidity\":0.2}},\"type\":\"bar\"}],\"barpolar\":[{\"marker\":{\"line\":{\"color\":\"#E5ECF6\",\"width\":0.5},\"pattern\":{\"fillmode\":\"overlay\",\"size\":10,\"solidity\":0.2}},\"type\":\"barpolar\"}],\"carpet\":[{\"aaxis\":{\"endlinecolor\":\"#2a3f5f\",\"gridcolor\":\"white\",\"linecolor\":\"white\",\"minorgridcolor\":\"white\",\"startlinecolor\":\"#2a3f5f\"},\"baxis\":{\"endlinecolor\":\"#2a3f5f\",\"gridcolor\":\"white\",\"linecolor\":\"white\",\"minorgridcolor\":\"white\",\"startlinecolor\":\"#2a3f5f\"},\"type\":\"carpet\"}],\"choropleth\":[{\"colorbar\":{\"outlinewidth\":0,\"ticks\":\"\"},\"type\":\"choropleth\"}],\"contour\":[{\"colorbar\":{\"outlinewidth\":0,\"ticks\":\"\"},\"colorscale\":[[0.0,\"#0d0887\"],[0.1111111111111111,\"#46039f\"],[0.2222222222222222,\"#7201a8\"],[0.3333333333333333,\"#9c179e\"],[0.4444444444444444,\"#bd3786\"],[0.5555555555555556,\"#d8576b\"],[0.6666666666666666,\"#ed7953\"],[0.7777777777777778,\"#fb9f3a\"],[0.8888888888888888,\"#fdca26\"],[1.0,\"#f0f921\"]],\"type\":\"contour\"}],\"contourcarpet\":[{\"colorbar\":{\"outlinewidth\":0,\"ticks\":\"\"},\"type\":\"contourcarpet\"}],\"heatmap\":[{\"colorbar\":{\"outlinewidth\":0,\"ticks\":\"\"},\"colorscale\":[[0.0,\"#0d0887\"],[0.1111111111111111,\"#46039f\"],[0.2222222222222222,\"#7201a8\"],[0.3333333333333333,\"#9c179e\"],[0.4444444444444444,\"#bd3786\"],[0.5555555555555556,\"#d8576b\"],[0.6666666666666666,\"#ed7953\"],[0.7777777777777778,\"#fb9f3a\"],[0.8888888888888888,\"#fdca26\"],[1.0,\"#f0f921\"]],\"type\":\"heatmap\"}],\"heatmapgl\":[{\"colorbar\":{\"outlinewidth\":0,\"ticks\":\"\"},\"colorscale\":[[0.0,\"#0d0887\"],[0.1111111111111111,\"#46039f\"],[0.2222222222222222,\"#7201a8\"],[0.3333333333333333,\"#9c179e\"],[0.4444444444444444,\"#bd3786\"],[0.5555555555555556,\"#d8576b\"],[0.6666666666666666,\"#ed7953\"],[0.7777777777777778,\"#fb9f3a\"],[0.8888888888888888,\"#fdca26\"],[1.0,\"#f0f921\"]],\"type\":\"heatmapgl\"}],\"histogram\":[{\"marker\":{\"pattern\":{\"fillmode\":\"overlay\",\"size\":10,\"solidity\":0.2}},\"type\":\"histogram\"}],\"histogram2d\":[{\"colorbar\":{\"outlinewidth\":0,\"ticks\":\"\"},\"colorscale\":[[0.0,\"#0d0887\"],[0.1111111111111111,\"#46039f\"],[0.2222222222222222,\"#7201a8\"],[0.3333333333333333,\"#9c179e\"],[0.4444444444444444,\"#bd3786\"],[0.5555555555555556,\"#d8576b\"],[0.6666666666666666,\"#ed7953\"],[0.7777777777777778,\"#fb9f3a\"],[0.8888888888888888,\"#fdca26\"],[1.0,\"#f0f921\"]],\"type\":\"histogram2d\"}],\"histogram2dcontour\":[{\"colorbar\":{\"outlinewidth\":0,\"ticks\":\"\"},\"colorscale\":[[0.0,\"#0d0887\"],[0.1111111111111111,\"#46039f\"],[0.2222222222222222,\"#7201a8\"],[0.3333333333333333,\"#9c179e\"],[0.4444444444444444,\"#bd3786\"],[0.5555555555555556,\"#d8576b\"],[0.6666666666666666,\"#ed7953\"],[0.7777777777777778,\"#fb9f3a\"],[0.8888888888888888,\"#fdca26\"],[1.0,\"#f0f921\"]],\"type\":\"histogram2dcontour\"}],\"mesh3d\":[{\"colorbar\":{\"outlinewidth\":0,\"ticks\":\"\"},\"type\":\"mesh3d\"}],\"parcoords\":[{\"line\":{\"colorbar\":{\"outlinewidth\":0,\"ticks\":\"\"}},\"type\":\"parcoords\"}],\"pie\":[{\"automargin\":true,\"type\":\"pie\"}],\"scatter\":[{\"marker\":{\"colorbar\":{\"outlinewidth\":0,\"ticks\":\"\"}},\"type\":\"scatter\"}],\"scatter3d\":[{\"line\":{\"colorbar\":{\"outlinewidth\":0,\"ticks\":\"\"}},\"marker\":{\"colorbar\":{\"outlinewidth\":0,\"ticks\":\"\"}},\"type\":\"scatter3d\"}],\"scattercarpet\":[{\"marker\":{\"colorbar\":{\"outlinewidth\":0,\"ticks\":\"\"}},\"type\":\"scattercarpet\"}],\"scattergeo\":[{\"marker\":{\"colorbar\":{\"outlinewidth\":0,\"ticks\":\"\"}},\"type\":\"scattergeo\"}],\"scattergl\":[{\"marker\":{\"colorbar\":{\"outlinewidth\":0,\"ticks\":\"\"}},\"type\":\"scattergl\"}],\"scattermapbox\":[{\"marker\":{\"colorbar\":{\"outlinewidth\":0,\"ticks\":\"\"}},\"type\":\"scattermapbox\"}],\"scatterpolar\":[{\"marker\":{\"colorbar\":{\"outlinewidth\":0,\"ticks\":\"\"}},\"type\":\"scatterpolar\"}],\"scatterpolargl\":[{\"marker\":{\"colorbar\":{\"outlinewidth\":0,\"ticks\":\"\"}},\"type\":\"scatterpolargl\"}],\"scatterternary\":[{\"marker\":{\"colorbar\":{\"outlinewidth\":0,\"ticks\":\"\"}},\"type\":\"scatterternary\"}],\"surface\":[{\"colorbar\":{\"outlinewidth\":0,\"ticks\":\"\"},\"colorscale\":[[0.0,\"#0d0887\"],[0.1111111111111111,\"#46039f\"],[0.2222222222222222,\"#7201a8\"],[0.3333333333333333,\"#9c179e\"],[0.4444444444444444,\"#bd3786\"],[0.5555555555555556,\"#d8576b\"],[0.6666666666666666,\"#ed7953\"],[0.7777777777777778,\"#fb9f3a\"],[0.8888888888888888,\"#fdca26\"],[1.0,\"#f0f921\"]],\"type\":\"surface\"}],\"table\":[{\"cells\":{\"fill\":{\"color\":\"#EBF0F8\"},\"line\":{\"color\":\"white\"}},\"header\":{\"fill\":{\"color\":\"#C8D4E3\"},\"line\":{\"color\":\"white\"}},\"type\":\"table\"}]},\"layout\":{\"annotationdefaults\":{\"arrowcolor\":\"#2a3f5f\",\"arrowhead\":0,\"arrowwidth\":1},\"autotypenumbers\":\"strict\",\"coloraxis\":{\"colorbar\":{\"outlinewidth\":0,\"ticks\":\"\"}},\"colorscale\":{\"diverging\":[[0,\"#8e0152\"],[0.1,\"#c51b7d\"],[0.2,\"#de77ae\"],[0.3,\"#f1b6da\"],[0.4,\"#fde0ef\"],[0.5,\"#f7f7f7\"],[0.6,\"#e6f5d0\"],[0.7,\"#b8e186\"],[0.8,\"#7fbc41\"],[0.9,\"#4d9221\"],[1,\"#276419\"]],\"sequential\":[[0.0,\"#0d0887\"],[0.1111111111111111,\"#46039f\"],[0.2222222222222222,\"#7201a8\"],[0.3333333333333333,\"#9c179e\"],[0.4444444444444444,\"#bd3786\"],[0.5555555555555556,\"#d8576b\"],[0.6666666666666666,\"#ed7953\"],[0.7777777777777778,\"#fb9f3a\"],[0.8888888888888888,\"#fdca26\"],[1.0,\"#f0f921\"]],\"sequentialminus\":[[0.0,\"#0d0887\"],[0.1111111111111111,\"#46039f\"],[0.2222222222222222,\"#7201a8\"],[0.3333333333333333,\"#9c179e\"],[0.4444444444444444,\"#bd3786\"],[0.5555555555555556,\"#d8576b\"],[0.6666666666666666,\"#ed7953\"],[0.7777777777777778,\"#fb9f3a\"],[0.8888888888888888,\"#fdca26\"],[1.0,\"#f0f921\"]]},\"colorway\":[\"#636efa\",\"#EF553B\",\"#00cc96\",\"#ab63fa\",\"#FFA15A\",\"#19d3f3\",\"#FF6692\",\"#B6E880\",\"#FF97FF\",\"#FECB52\"],\"font\":{\"color\":\"#2a3f5f\"},\"geo\":{\"bgcolor\":\"white\",\"lakecolor\":\"white\",\"landcolor\":\"#E5ECF6\",\"showlakes\":true,\"showland\":true,\"subunitcolor\":\"white\"},\"hoverlabel\":{\"align\":\"left\"},\"hovermode\":\"closest\",\"mapbox\":{\"style\":\"light\"},\"paper_bgcolor\":\"white\",\"plot_bgcolor\":\"#E5ECF6\",\"polar\":{\"angularaxis\":{\"gridcolor\":\"white\",\"linecolor\":\"white\",\"ticks\":\"\"},\"bgcolor\":\"#E5ECF6\",\"radialaxis\":{\"gridcolor\":\"white\",\"linecolor\":\"white\",\"ticks\":\"\"}},\"scene\":{\"xaxis\":{\"backgroundcolor\":\"#E5ECF6\",\"gridcolor\":\"white\",\"gridwidth\":2,\"linecolor\":\"white\",\"showbackground\":true,\"ticks\":\"\",\"zerolinecolor\":\"white\"},\"yaxis\":{\"backgroundcolor\":\"#E5ECF6\",\"gridcolor\":\"white\",\"gridwidth\":2,\"linecolor\":\"white\",\"showbackground\":true,\"ticks\":\"\",\"zerolinecolor\":\"white\"},\"zaxis\":{\"backgroundcolor\":\"#E5ECF6\",\"gridcolor\":\"white\",\"gridwidth\":2,\"linecolor\":\"white\",\"showbackground\":true,\"ticks\":\"\",\"zerolinecolor\":\"white\"}},\"shapedefaults\":{\"line\":{\"color\":\"#2a3f5f\"}},\"ternary\":{\"aaxis\":{\"gridcolor\":\"white\",\"linecolor\":\"white\",\"ticks\":\"\"},\"baxis\":{\"gridcolor\":\"white\",\"linecolor\":\"white\",\"ticks\":\"\"},\"bgcolor\":\"#E5ECF6\",\"caxis\":{\"gridcolor\":\"white\",\"linecolor\":\"white\",\"ticks\":\"\"}},\"title\":{\"x\":0.05},\"xaxis\":{\"automargin\":true,\"gridcolor\":\"white\",\"linecolor\":\"white\",\"ticks\":\"\",\"title\":{\"standoff\":15},\"zerolinecolor\":\"white\",\"zerolinewidth\":2},\"yaxis\":{\"automargin\":true,\"gridcolor\":\"white\",\"linecolor\":\"white\",\"ticks\":\"\",\"title\":{\"standoff\":15},\"zerolinecolor\":\"white\",\"zerolinewidth\":2}}},\"xaxis\":{\"anchor\":\"y\",\"domain\":[0.0,1.0],\"title\":{\"text\":\"Day\"}},\"yaxis\":{\"anchor\":\"x\",\"domain\":[0.0,1.0],\"title\":{\"text\":\"count\"}},\"legend\":{\"tracegroupgap\":0},\"margin\":{\"t\":60},\"barmode\":\"relative\"}}'"
      ]
     },
     "execution_count": 4,
     "metadata": {},
     "output_type": "execute_result"
    }
   ],
   "source": [
    "from typing import Any\n",
    "from timeit import default_timer as timer\n",
    "from aaa.sim_handler import SimHandler\n",
    "from aaa.logger import pkg_logger as pl\n",
    "\n",
    "\n",
    "sim = SimHandler(config)\n",
    "type(sim.buy_days)\n",
    "\n",
    "day_list = [i for i in range(len(sim.buy_days))]\n",
    "# Grabbing the data from sim.buy_days, and ultimately converting it into a plotly histogram.\n",
    "# One of the many results from diagnostics()\n",
    "\n",
    "df = pd.DataFrame({ \"Day\": sim.buy_days, \"Sales\": day_list})\n",
    "final_plot = px.histogram(df, x=\"Day\", nbins=len(day_list))\n",
    "\n",
    "\n",
    "final_plot.to_json()"
   ]
  },
  {
   "cell_type": "code",
   "execution_count": null,
   "id": "e2156516",
   "metadata": {},
   "outputs": [],
   "source": []
  },
  {
   "cell_type": "code",
   "execution_count": 5,
   "id": "fefd58ad",
   "metadata": {},
   "outputs": [
    {
     "ename": "TypeError",
     "evalue": "read_json() missing 1 required positional argument: 'file'",
     "output_type": "error",
     "traceback": [
      "\u001b[0;31m---------------------------------------------------------------------------\u001b[0m",
      "\u001b[0;31mTypeError\u001b[0m                                 Traceback (most recent call last)",
      "Input \u001b[0;32mIn [5]\u001b[0m, in \u001b[0;36m<cell line: 1>\u001b[0;34m()\u001b[0m\n\u001b[0;32m----> 1\u001b[0m \u001b[43mplotly\u001b[49m\u001b[38;5;241;43m.\u001b[39;49m\u001b[43mio\u001b[49m\u001b[38;5;241;43m.\u001b[39;49m\u001b[43mread_json\u001b[49m\u001b[43m(\u001b[49m\u001b[43m)\u001b[49m\n",
      "\u001b[0;31mTypeError\u001b[0m: read_json() missing 1 required positional argument: 'file'"
     ]
    }
   ],
   "source": [
    "plotly.io.read_json()"
   ]
  },
  {
   "cell_type": "code",
   "execution_count": null,
   "id": "32757514",
   "metadata": {},
   "outputs": [],
   "source": []
  },
  {
   "cell_type": "code",
   "execution_count": null,
   "id": "06a05f79",
   "metadata": {},
   "outputs": [],
   "source": []
  },
  {
   "cell_type": "code",
   "execution_count": null,
   "id": "8ab12dc8",
   "metadata": {},
   "outputs": [],
   "source": []
  },
  {
   "cell_type": "code",
   "execution_count": null,
   "id": "af152cc9",
   "metadata": {},
   "outputs": [],
   "source": []
  }
 ],
 "metadata": {
  "kernelspec": {
   "display_name": "aaa",
   "language": "python",
   "name": "aaa"
  },
  "language_info": {
   "codemirror_mode": {
    "name": "ipython",
    "version": 3
   },
   "file_extension": ".py",
   "mimetype": "text/x-python",
   "name": "python",
   "nbconvert_exporter": "python",
   "pygments_lexer": "ipython3",
   "version": "3.10.4"
  }
 },
 "nbformat": 4,
 "nbformat_minor": 5
}
