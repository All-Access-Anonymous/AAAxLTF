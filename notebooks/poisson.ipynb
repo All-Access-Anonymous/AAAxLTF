{
 "cells": [
  {
   "cell_type": "markdown",
   "id": "5b604e7d",
   "metadata": {},
   "source": [
    "<h1>This project is poisoooon..</h1>"
   ]
  },
  {
   "cell_type": "code",
   "execution_count": 46,
   "id": "c3120d78",
   "metadata": {},
   "outputs": [],
   "source": [
    "import numpy as np\n",
    "\n",
    "s = np.random.poisson(20, 90)"
   ]
  },
  {
   "cell_type": "code",
   "execution_count": 47,
   "id": "d7bdb702",
   "metadata": {},
   "outputs": [
    {
     "data": {
      "text/plain": [
       "array([22, 27, 24, 18, 20, 18, 18, 17, 20, 14, 22, 33, 22, 19, 15, 20, 24,\n",
       "       29, 16, 21, 18, 18, 12, 13, 28, 23, 23, 22, 12, 22, 19, 24, 17, 20,\n",
       "       27, 22, 29, 16, 14, 21, 18, 21, 27, 20, 18, 15, 25, 19, 18, 18, 15,\n",
       "       27, 22, 22, 26, 23, 23, 14, 15, 14, 16, 27, 26, 19, 25, 17, 20, 17,\n",
       "       17, 16, 21, 16, 18, 15, 27, 22, 24, 19, 16, 16, 11, 13, 21, 20, 24,\n",
       "       21, 15, 17, 17, 32])"
      ]
     },
     "execution_count": 47,
     "metadata": {},
     "output_type": "execute_result"
    }
   ],
   "source": [
    "s"
   ]
  },
  {
   "cell_type": "code",
   "execution_count": 48,
   "id": "e3b82b51",
   "metadata": {
    "scrolled": true
   },
   "outputs": [
    {
     "data": {
      "image/png": "[encoded data removed]",
      "text/plain": [
       "<Figure size 432x288 with 1 Axes>"
      ]
     },
     "metadata": {
      "needs_background": "light"
     },
     "output_type": "display_data"
    }
   ],
   "source": [
    "import matplotlib.pyplot as plt\n",
    "\n",
    "count, bins, ignored = plt.hist(s, 90, density=True)\n",
    "\n",
    "plt.show()"
   ]
  },
  {
   "cell_type": "code",
   "execution_count": 49,
   "id": "ec4e4555",
   "metadata": {},
   "outputs": [
    {
     "data": {
      "text/plain": [
       "2001.9999999999998"
      ]
     },
     "execution_count": 49,
     "metadata": {},
     "output_type": "execute_result"
    }
   ],
   "source": [
    "sum(bins)"
   ]
  },
  {
   "cell_type": "code",
   "execution_count": null,
   "id": "b049afba",
   "metadata": {},
   "outputs": [],
   "source": []
  },
  {
   "cell_type": "code",
   "execution_count": null,
   "id": "08093a66",
   "metadata": {},
   "outputs": [],
   "source": []
  },
  {
   "cell_type": "code",
   "execution_count": null,
   "id": "73474bbf",
   "metadata": {},
   "outputs": [],
   "source": []
  }
 ],
 "metadata": {
  "kernelspec": {
   "display_name": "Python 3 (ipykernel)",
   "language": "python",
   "name": "python3"
  },
  "language_info": {
   "codemirror_mode": {
    "name": "ipython",
    "version": 3
   },
   "file_extension": ".py",
   "mimetype": "text/x-python",
   "name": "python",
   "nbconvert_exporter": "python",
   "pygments_lexer": "ipython3",
   "version": "3.10.1"
  }
 },
 "nbformat": 4,
 "nbformat_minor": 5
}
