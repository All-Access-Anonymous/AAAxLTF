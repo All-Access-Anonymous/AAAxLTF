{
 "cells": [
  {
   "cell_type": "markdown",
   "id": "bb9befe2",
   "metadata": {},
   "source": [
    "# Modeling a Skew-normal Distribution\n",
    "\n",
    "Feb 15, 2022"
   ]
  },
  {
   "cell_type": "code",
   "execution_count": 16,
   "id": "1293b899",
   "metadata": {},
   "outputs": [],
   "source": [
    "from scipy.stats import norm, skewnorm\n",
    "import numpy as np\n",
    "import matplotlib.pyplot as plt\n",
    "import random"
   ]
  },
  {
   "cell_type": "code",
   "execution_count": 17,
   "id": "58b4f02f",
   "metadata": {},
   "outputs": [],
   "source": [
    "def reduce(sample, count):\n",
    "    indexed = [item for item in enumerate(sample)]\n",
    "    random.shuffle(indexed)\n",
    "    trimmed = indexed[:count]\n",
    "    trimmed.sort()\n",
    "    return [item for index,item in trimmed]"
   ]
  },
  {
   "cell_type": "code",
   "execution_count": 18,
   "id": "18a01f1b",
   "metadata": {},
   "outputs": [],
   "source": [
    "DAYS_TILL_CONCERT = 60\n",
    "POPULATION = 50"
   ]
  },
  {
   "cell_type": "code",
   "execution_count": 19,
   "id": "3b70822c",
   "metadata": {},
   "outputs": [],
   "source": [
    "x = np.arange(0, DAYS_TILL_CONCERT, 0.001)"
   ]
  },
  {
   "cell_type": "code",
   "execution_count": 20,
   "id": "32de2990",
   "metadata": {},
   "outputs": [],
   "source": [
    "y = skewnorm.pdf(x, 5, 10, 15)"
   ]
  },
  {
   "cell_type": "code",
   "execution_count": 21,
   "id": "70d2a46b",
   "metadata": {},
   "outputs": [
    {
     "data": {
      "image/png": "[encoded data removed]",
      "text/plain": [
       "<Figure size 432x288 with 1 Axes>"
      ]
     },
     "metadata": {
      "needs_background": "light"
     },
     "output_type": "display_data"
    }
   ],
   "source": [
    "plt.title('Days x Probability to buy')\n",
    "plt.plot(x, y)\n",
    "plt.show()\n"
   ]
  },
  {
   "cell_type": "code",
   "execution_count": 22,
   "id": "2ea1cba7",
   "metadata": {},
   "outputs": [
    {
     "data": {
      "text/plain": [
       "60000"
      ]
     },
     "execution_count": 22,
     "metadata": {},
     "output_type": "execute_result"
    }
   ],
   "source": [
    "len(x)"
   ]
  },
  {
   "cell_type": "code",
   "execution_count": null,
   "id": "74acaf83",
   "metadata": {},
   "outputs": [],
   "source": []
  },
  {
   "cell_type": "code",
   "execution_count": 23,
   "id": "dfe5b2b8",
   "metadata": {
    "scrolled": false
   },
   "outputs": [
    {
     "data": {
      "text/plain": [
       "array([0.0000e+00, 1.0000e-03, 2.0000e-03, ..., 5.9997e+01, 5.9998e+01,\n",
       "       5.9999e+01])"
      ]
     },
     "execution_count": 23,
     "metadata": {},
     "output_type": "execute_result"
    }
   ],
   "source": [
    "x"
   ]
  },
  {
   "cell_type": "code",
   "execution_count": 24,
   "id": "445dc42c",
   "metadata": {},
   "outputs": [],
   "source": [
    "z = reduce(x, POPULATION)\n",
    "j = reduce(y, 50)"
   ]
  },
  {
   "cell_type": "code",
   "execution_count": 31,
   "id": "5190f9b5",
   "metadata": {},
   "outputs": [
    {
     "data": {
      "text/plain": [
       "[0.0005453458132307665,\n",
       " 0.0005458390751382944,\n",
       " 0.000647481311395542,\n",
       " 0.005759972311840764,\n",
       " 0.010730340628626983,\n",
       " 0.014965853394414757,\n",
       " 0.027119211861879346,\n",
       " 0.03419781011380736,\n",
       " 0.043045204176527914,\n",
       " 0.04548499542377131,\n",
       " 0.04806329139160406,\n",
       " 0.04718618596400042,\n",
       " 0.0436767529984873,\n",
       " 0.042949846100887236,\n",
       " 0.04151977481938587,\n",
       " 0.04131199201752469,\n",
       " 0.036704540656599886,\n",
       " 0.033930279899956124,\n",
       " 0.03317875801573814,\n",
       " 0.0326391324064675,\n",
       " 0.03189282630455649,\n",
       " 0.03147570234567058,\n",
       " 0.02522515932835878,\n",
       " 0.023246583374888663,\n",
       " 0.02209595182331121,\n",
       " 0.02178837686622011,\n",
       " 0.021295994917786266,\n",
       " 0.014922319501136077,\n",
       " 0.013138729729432357,\n",
       " 0.011614048578325329,\n",
       " 0.01086253829857903,\n",
       " 0.01058871053491306,\n",
       " 0.007267186314062423,\n",
       " 0.0069384541379435985,\n",
       " 0.006085188292529512,\n",
       " 0.004152574258699827,\n",
       " 0.0038823542117348785,\n",
       " 0.003580829066226547,\n",
       " 0.003529556137707202,\n",
       " 0.0032831359556539214,\n",
       " 0.003263040152773101,\n",
       " 0.0017437211988797108,\n",
       " 0.0016557155794622773,\n",
       " 0.001238725842843026,\n",
       " 0.0008885409044807528,\n",
       " 0.0005150352759604196,\n",
       " 0.0004913794444675448,\n",
       " 0.00026273042439869194,\n",
       " 0.0002305870121395414,\n",
       " 0.00022721203778720825]"
      ]
     },
     "execution_count": 31,
     "metadata": {},
     "output_type": "execute_result"
    },
    {
     "data": {
      "image/png": "[encoded data removed]",
      "text/plain": [
       "<Figure size 432x288 with 1 Axes>"
      ]
     },
     "metadata": {
      "needs_background": "light"
     },
     "output_type": "display_data"
    }
   ],
   "source": [
    "plt.plot(z, j)\n",
    "z\n",
    "j"
   ]
  },
  {
   "cell_type": "code",
   "execution_count": 26,
   "id": "33dfd7a1",
   "metadata": {},
   "outputs": [
    {
     "data": {
      "text/plain": [
       "array([ 0.,  0.,  0., ..., 60., 60., 60.])"
      ]
     },
     "execution_count": 26,
     "metadata": {},
     "output_type": "execute_result"
    }
   ],
   "source": [
    "x.round()"
   ]
  },
  {
   "cell_type": "code",
   "execution_count": 27,
   "id": "2367e147",
   "metadata": {},
   "outputs": [
    {
     "data": {
      "text/plain": [
       "array([0., 0., 0., ..., 0., 0., 0.])"
      ]
     },
     "execution_count": 27,
     "metadata": {},
     "output_type": "execute_result"
    }
   ],
   "source": [
    "y.round()"
   ]
  },
  {
   "cell_type": "code",
   "execution_count": null,
   "id": "b1ca9b64",
   "metadata": {},
   "outputs": [],
   "source": []
  },
  {
   "cell_type": "code",
   "execution_count": null,
   "id": "adf440b9",
   "metadata": {},
   "outputs": [],
   "source": []
  },
  {
   "cell_type": "code",
   "execution_count": null,
   "id": "04b1ace7",
   "metadata": {},
   "outputs": [],
   "source": []
  },
  {
   "cell_type": "code",
   "execution_count": null,
   "id": "8e4f21f6",
   "metadata": {},
   "outputs": [],
   "source": []
  },
  {
   "cell_type": "code",
   "execution_count": null,
   "id": "fc29146d",
   "metadata": {},
   "outputs": [],
   "source": []
  },
  {
   "cell_type": "code",
   "execution_count": null,
   "id": "29ca19d8",
   "metadata": {},
   "outputs": [],
   "source": []
  },
  {
   "cell_type": "code",
   "execution_count": null,
   "id": "6a490b2b",
   "metadata": {},
   "outputs": [],
   "source": []
  },
  {
   "cell_type": "code",
   "execution_count": null,
   "id": "8fe96077",
   "metadata": {},
   "outputs": [],
   "source": []
  }
 ],
 "metadata": {
  "kernelspec": {
   "display_name": "Python 3 (ipykernel)",
   "language": "python",
   "name": "python3"
  },
  "language_info": {
   "codemirror_mode": {
    "name": "ipython",
    "version": 3
   },
   "file_extension": ".py",
   "mimetype": "text/x-python",
   "name": "python",
   "nbconvert_exporter": "python",
   "pygments_lexer": "ipython3",
   "version": "3.10.1"
  }
 },
 "nbformat": 4,
 "nbformat_minor": 5
}
