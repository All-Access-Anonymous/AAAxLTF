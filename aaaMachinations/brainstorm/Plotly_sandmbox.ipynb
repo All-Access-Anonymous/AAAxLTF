{
 "cells": [
  {
   "cell_type": "markdown",
   "id": "c645f4dd",
   "metadata": {},
   "source": [
    "# Using graph_object to build figures"
   ]
  },
  {
   "cell_type": "code",
   "execution_count": null,
   "id": "b49ea8cc",
   "metadata": {},
   "outputs": [],
   "source": [
    "import plotly.graph_objects as go"
   ]
  },
  {
   "cell_type": "code",
   "execution_count": null,
   "id": "b0df6447",
   "metadata": {},
   "outputs": [],
   "source": [
    "# Data\n",
    "import numpy as np\n",
    "steps = 1000\n",
    "x = np.linspace(0, 5, steps)\n",
    "a = np.linspace(2, 7, steps)\n",
    "b = np.linspace(2, 23, steps)\n",
    "diff = b - a\n",
    "\n",
    "fig = go.Figure()\n",
    "fig.add_trace(\n",
    "    go.Scatter(\n",
    "        x = x,\n",
    "        y = a,\n",
    "        name = \"a\",\n",
    "        mode = \"lines\"\n",
    "    )\n",
    ")\n",
    "fig.add_trace(\n",
    "    go.Scatter(\n",
    "        x = x,\n",
    "        y = b,\n",
    "        name = \"b\",\n",
    "        mode = \"lines\"\n",
    "    )\n",
    ")\n",
    "fig.add_trace(\n",
    "    go.Scatter(\n",
    "        x = x,\n",
    "        y = diff,\n",
    "        name = \"c\",\n",
    "        mode = \"lines\"\n",
    "    )\n",
    ")\n",
    "fig.update_layout(hovermode = \"x unified\")\n",
    "fig.show()"
   ]
  },
  {
   "cell_type": "code",
   "execution_count": null,
   "id": "8d9edf21",
   "metadata": {},
   "outputs": [],
   "source": []
  }
 ],
 "metadata": {
  "kernelspec": {
   "display_name": "aaa",
   "language": "python",
   "name": "aaa"
  },
  "language_info": {
   "codemirror_mode": {
    "name": "ipython",
    "version": 3
   },
   "file_extension": ".py",
   "mimetype": "text/x-python",
   "name": "python",
   "nbconvert_exporter": "python",
   "pygments_lexer": "ipython3",
   "version": "3.10.4"
  }
 },
 "nbformat": 4,
 "nbformat_minor": 5
}
