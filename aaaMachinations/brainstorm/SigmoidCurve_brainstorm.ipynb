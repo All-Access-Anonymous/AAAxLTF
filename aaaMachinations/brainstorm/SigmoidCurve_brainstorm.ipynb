{
 "cells": [
  {
   "cell_type": "markdown",
   "id": "cfe53a57",
   "metadata": {},
   "source": [
    "# Sigmoid function\n",
    "\n",
    "https://www.desmos.com/calculator/j1yxue0euk\n",
    "\n",
    "a: height of the curve. Putting this to 0 will make a straight line with no slope.  \n",
    "b: x-axis control of the slope. Negative value will move the \"hump\" to the left.  \n",
    "c: steepness of the curve.\n",
    "\n",
    "For the sake of code maintenance variable names will be self-explainatory.  \n",
    "slope_height: height of the curve.  \n",
    "x-transition: x-axis transition of the curve.  \n",
    "steepness: controls the steepness of the curve. 0 will result in absolute steepness hence 90 degree. Higher number will result in smoother curve.  "
   ]
  },
  {
   "cell_type": "code",
   "execution_count": null,
   "id": "e4b0592d",
   "metadata": {},
   "outputs": [],
   "source": [
    "# import math\n",
    "import numpy as np\n",
    "class SigmoidCurve:\n",
    "    \"\"\"A sigmoid curve.\n",
    "        \n",
    "        Mathmatical formula:\n",
    "            f(x) = a * ((x - b / sqrt(c + (x - b)**2)) + 1)\n",
    "        Graphing representation:\n",
    "            https://www.desmos.com/calculator/j1yxue0euk\n",
    "            \n",
    "        Attributes:\n",
    "            slope_height: float changes height of the curve.\n",
    "            x_transition: float x-axis transition of the curve.\n",
    "            steepness: float controls the steepness of the curve.\n",
    "    \"\"\"\n",
    "    def __init__(self,\n",
    "                 slope_height: float,\n",
    "                 x_transition: float,\n",
    "                 steepness: float):\n",
    "        \"\"\"Initialize this class with the parameter values.\"\"\"\n",
    "        \n",
    "        self.slope_height: float = slope_height\n",
    "        self.x_transition: float = x_transition\n",
    "        self.steepness: float = steepness\n",
    "    \n",
    "    def sigmoid_function(self, x: float | np.ndarray) -> float | np.ndarray:\n",
    "        \"\"\"A sigmoid function that returns f(x).\n",
    "            \n",
    "            Arg:\n",
    "                x: float or numpy.ndarray x value of f(x).\n",
    "            \n",
    "            Return:\n",
    "                Same datatype of input(float or numpy.ndarray) value of f(x).\n",
    "        \"\"\"\n",
    "        y = self.slope_height * (((x - self.x_transition) / np.sqrt(self.steepness + np.power(x - self.x_transition, 2))) + 1)\n",
    "        return y\n",
    "        "
   ]
  },
  {
   "cell_type": "code",
   "execution_count": null,
   "id": "88dbc1e3",
   "metadata": {},
   "outputs": [],
   "source": [
    "sigmoid_curve = SigmoidCurve(20, 5, 2)"
   ]
  },
  {
   "cell_type": "markdown",
   "id": "01a138fe",
   "metadata": {},
   "source": [
    "# Plotting the sigmoid curve"
   ]
  },
  {
   "cell_type": "code",
   "execution_count": null,
   "id": "f884a8d8",
   "metadata": {},
   "outputs": [],
   "source": [
    "import numpy as np\n",
    "import plotly.express as px\n",
    "\n",
    "x = np.linspace(0, 20, 1000)\n",
    "for i in x:\n",
    "    print(i)"
   ]
  },
  {
   "cell_type": "markdown",
   "id": "320ca9d1",
   "metadata": {},
   "source": [
    "# wsAAAohm"
   ]
  },
  {
   "cell_type": "code",
   "execution_count": null,
   "id": "5c2c0b24",
   "metadata": {
    "scrolled": false
   },
   "outputs": [],
   "source": [
    "y = sigmoid_curve.sigmoid_function(x)\n",
    "fig = px.line(x=x, y=y)\n",
    "fig.show()"
   ]
  },
  {
   "cell_type": "markdown",
   "id": "ab2525c1",
   "metadata": {},
   "source": [
    "# sAAAohm"
   ]
  },
  {
   "cell_type": "code",
   "execution_count": null,
   "id": "8705e6d1",
   "metadata": {},
   "outputs": [],
   "source": [
    "reserve_power = np.power(np.linspace(0, 1, 1000), 0.3)\n",
    "reserve = y * reserve_power\n",
    "fig = px.line(x=x, y=reserve)\n",
    "fig.show()"
   ]
  },
  {
   "cell_type": "markdown",
   "id": "04715701",
   "metadata": {},
   "source": [
    "# AAA"
   ]
  },
  {
   "cell_type": "code",
   "execution_count": null,
   "id": "61227979",
   "metadata": {},
   "outputs": [],
   "source": [
    "aaa_reserve_power = np.power(x, 0.9)\n",
    "aaa_reserve = y * aaa_reserve_power\n",
    "fig = px.line(x=x, y=aaa_reserve)\n",
    "fig.show()"
   ]
  },
  {
   "cell_type": "markdown",
   "id": "5889784d",
   "metadata": {},
   "source": [
    "# Reserve"
   ]
  },
  {
   "cell_type": "code",
   "execution_count": null,
   "id": "04158cf0",
   "metadata": {},
   "outputs": [],
   "source": [
    "fiat_reserve_power = np.power(x, 2)\n",
    "fiat_reserve = y * fiat_reserve_power\n",
    "fig = px.line(x=x, y=fiat_reserve)\n",
    "fig.show()"
   ]
  }
 ],
 "metadata": {
  "kernelspec": {
   "display_name": "aaa",
   "language": "python",
   "name": "aaa"
  },
  "language_info": {
   "codemirror_mode": {
    "name": "ipython",
    "version": 3
   },
   "file_extension": ".py",
   "mimetype": "text/x-python",
   "name": "python",
   "nbconvert_exporter": "python",
   "pygments_lexer": "ipython3",
   "version": "3.10.4"
  }
 },
 "nbformat": 4,
 "nbformat_minor": 5
}
